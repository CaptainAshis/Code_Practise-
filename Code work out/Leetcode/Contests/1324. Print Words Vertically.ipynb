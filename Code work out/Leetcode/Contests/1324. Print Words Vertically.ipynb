{
 "cells": [
  {
   "cell_type": "code",
   "execution_count": 209,
   "metadata": {},
   "outputs": [],
   "source": [
    "# https://leetcode.com/contest/weekly-contest-172/problems/print-words-vertically/"
   ]
  },
  {
   "cell_type": "markdown",
   "metadata": {},
   "source": [
    "# 1324. Print Words Vertically"
   ]
  },
  {
   "cell_type": "code",
   "execution_count": 206,
   "metadata": {},
   "outputs": [],
   "source": [
    "class Solution(object):\n",
    "    def printVertically(self, s):\n",
    "        s = s\n",
    "\n",
    "        list1=(s.split())\n",
    "\n",
    "        list1\n",
    "\n",
    "        list2=[list(j) for j in list1]\n",
    "        list2\n",
    "\n",
    "        s_list=[len(j) for j in list1]\n",
    "        maximum=max(s_list)\n",
    "        max_range=max(maximum,len(list1))\n",
    "\n",
    "        dis = [[str('')] * max_range for _ in range(max_range)]\n",
    "\n",
    "        for i in range((max_range)):\n",
    "            for j in range((max_range)):\n",
    "                try:\n",
    "                    dis[i][j]=list2[j][i]\n",
    "                except:\n",
    "                    dis[i][j]=' '\n",
    "                    continue\n",
    "\n",
    "        l2=[(\"\".join(j))  for j in dis]\n",
    "        l3=[j.rstrip() for j in l2 if j!='']\n",
    "        l4=[j for j in l3 if j!='']\n",
    "        return l4"
   ]
  },
  {
   "cell_type": "code",
   "execution_count": 207,
   "metadata": {
    "scrolled": true
   },
   "outputs": [],
   "source": [
    "t1=[]\n",
    "a=Solution()\n",
    "t=a.printVertically(\"TO BE OR NOT TO BE\")"
   ]
  },
  {
   "cell_type": "code",
   "execution_count": 208,
   "metadata": {},
   "outputs": [
    {
     "data": {
      "text/plain": [
       "['TBONTB', 'OEROOE', '   T']"
      ]
     },
     "execution_count": 208,
     "metadata": {},
     "output_type": "execute_result"
    }
   ],
   "source": [
    "t"
   ]
  },
  {
   "cell_type": "code",
   "execution_count": null,
   "metadata": {},
   "outputs": [],
   "source": []
  }
 ],
 "metadata": {
  "kernelspec": {
   "display_name": "Python 3",
   "language": "python",
   "name": "python3"
  },
  "language_info": {
   "codemirror_mode": {
    "name": "ipython",
    "version": 3
   },
   "file_extension": ".py",
   "mimetype": "text/x-python",
   "name": "python",
   "nbconvert_exporter": "python",
   "pygments_lexer": "ipython3",
   "version": "3.7.4"
  }
 },
 "nbformat": 4,
 "nbformat_minor": 2
}
