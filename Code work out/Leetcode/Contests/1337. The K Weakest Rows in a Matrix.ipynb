{
 "cells": [
  {
   "cell_type": "code",
   "execution_count": 50,
   "metadata": {},
   "outputs": [],
   "source": [
    "# https://leetcode.com/contest/weekly-contest-174/problems/the-k-weakest-rows-in-a-matrix/"
   ]
  },
  {
   "cell_type": "markdown",
   "metadata": {},
   "source": [
    "# 1337. The K Weakest Rows in a Matrix"
   ]
  },
  {
   "cell_type": "markdown",
   "metadata": {},
   "source": [
    "# Input in style - saves time"
   ]
  },
  {
   "cell_type": "code",
   "execution_count": 10,
   "metadata": {},
   "outputs": [
    {
     "name": "stdout",
     "output_type": "stream",
     "text": [
      "1 1 0 0 0\n",
      "1 1 1 1 0\n",
      "1 0 0 0 0\n",
      "1 1 0 0 0\n",
      "1 1 1 1 1\n"
     ]
    }
   ],
   "source": [
    "t1=[list(map(int,input().split())) for j in range(5)]"
   ]
  },
  {
   "cell_type": "code",
   "execution_count": 11,
   "metadata": {},
   "outputs": [
    {
     "data": {
      "text/plain": [
       "[[1, 1, 0, 0, 0],\n",
       " [1, 1, 1, 1, 0],\n",
       " [1, 0, 0, 0, 0],\n",
       " [1, 1, 0, 0, 0],\n",
       " [1, 1, 1, 1, 1]]"
      ]
     },
     "execution_count": 11,
     "metadata": {},
     "output_type": "execute_result"
    }
   ],
   "source": [
    "t1"
   ]
  },
  {
   "cell_type": "markdown",
   "metadata": {},
   "source": [
    "# Solution1"
   ]
  },
  {
   "cell_type": "code",
   "execution_count": 20,
   "metadata": {},
   "outputs": [
    {
     "name": "stdout",
     "output_type": "stream",
     "text": [
      "[1, 1, 0, 0, 0]\n"
     ]
    }
   ],
   "source": [
    "class Solution(object):\n",
    "    def kWeakestRows(self, mat, k):\n",
    "        \"\"\"\n",
    "        :type mat: List[List[int]]\n",
    "        :type k: int\n",
    "        :rtype: List[int]\n",
    "        \"\"\"\n",
    "        dic={}\n",
    "        sum_total=[]\n",
    "        t1=mat\n",
    "        for i in t1:\n",
    "            sum_total.append(sum(i))\n",
    "\n",
    "        for i,j in enumerate(sum_total):\n",
    "            dic[i]=j\n",
    "        l1=sorted(dic.items(),key=lambda x:x[1])\n",
    "        l1\n",
    "        for i in range(len(l1)):\n",
    "            if i<len(l1)-1:\n",
    "        #         print(i)\n",
    "                if(l1[i][1]==l1[i+1][1]):\n",
    "                    if(l1[i][0]>l1[i+1][0]):\n",
    "                        l1.pop(l1[i+1])\n",
    "                        l1.insert(i+1, l1[i]) \n",
    "                        l1.insert(i, l1[i+1])\n",
    "        t2=[key for key,v in l1]\n",
    "\n",
    "        return t2[:k]"
   ]
  },
  {
   "cell_type": "markdown",
   "metadata": {},
   "source": [
    " # Solution2"
   ]
  },
  {
   "cell_type": "markdown",
   "metadata": {},
   "source": [
    "## Swap Values in style in a list"
   ]
  },
  {
   "cell_type": "code",
   "execution_count": 48,
   "metadata": {},
   "outputs": [],
   "source": [
    "class Solution(object):\n",
    "    def kWeakestRows(self, mat, k):\n",
    "        \"\"\"\n",
    "        :type mat: List[List[int]]\n",
    "        :type k: int\n",
    "        :rtype: List[int]\n",
    "        \"\"\"\n",
    "        dic={}\n",
    "        sum_total=[]\n",
    "        t1=mat\n",
    "        for i in t1:\n",
    "            sum_total.append(sum(i))\n",
    "\n",
    "        for i,j in enumerate(sum_total):\n",
    "            dic[i]=j\n",
    "        l1=sorted(dic.items(),key=lambda x:x[1])\n",
    "        l1\n",
    "        for i in range(len(l1)):\n",
    "            if i<len(l1)-1:\n",
    "        #         print(i)\n",
    "                if(l1[i][1]==l1[i+1][1]):\n",
    "                    if(l1[i][0]>l1[i+1][0]):\n",
    "                        l1[i+1],l1[i]=l1[i],l1[i+1]\n",
    "        t2=[key for key,v in l1]\n",
    "\n",
    "        return t2[:k]"
   ]
  },
  {
   "cell_type": "code",
   "execution_count": 49,
   "metadata": {},
   "outputs": [
    {
     "data": {
      "text/plain": [
       "[2, 0, 3]"
      ]
     },
     "execution_count": 49,
     "metadata": {},
     "output_type": "execute_result"
    }
   ],
   "source": [
    "c=Solution()\n",
    "c.kWeakestRows(t1,3)"
   ]
  },
  {
   "cell_type": "code",
   "execution_count": 53,
   "metadata": {},
   "outputs": [
    {
     "data": {
      "text/plain": [
       "[[1, 1, 0, 0, 0],\n",
       " [1, 1, 1, 1, 0],\n",
       " [1, 0, 0, 0, 0],\n",
       " [1, 1, 0, 0, 0],\n",
       " [1, 1, 1, 1, 1]]"
      ]
     },
     "execution_count": 53,
     "metadata": {},
     "output_type": "execute_result"
    }
   ],
   "source": [
    "t1"
   ]
  },
  {
   "cell_type": "markdown",
   "metadata": {},
   "source": [
    "# One-Liner"
   ]
  },
  {
   "cell_type": "code",
   "execution_count": 56,
   "metadata": {
    "scrolled": false
   },
   "outputs": [
    {
     "data": {
      "text/plain": [
       "[2, 0, 3, 1, 4]"
      ]
     },
     "execution_count": 56,
     "metadata": {},
     "output_type": "execute_result"
    }
   ],
   "source": [
    "sorted(range(len(t1)), key=lambda x: sum(t1[x]))"
   ]
  },
  {
   "cell_type": "code",
   "execution_count": null,
   "metadata": {},
   "outputs": [],
   "source": []
  }
 ],
 "metadata": {
  "kernelspec": {
   "display_name": "Python 3",
   "language": "python",
   "name": "python3"
  },
  "language_info": {
   "codemirror_mode": {
    "name": "ipython",
    "version": 3
   },
   "file_extension": ".py",
   "mimetype": "text/x-python",
   "name": "python",
   "nbconvert_exporter": "python",
   "pygments_lexer": "ipython3",
   "version": "3.7.4"
  }
 },
 "nbformat": 4,
 "nbformat_minor": 2
}
