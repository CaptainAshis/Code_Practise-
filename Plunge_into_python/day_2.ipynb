{
 "cells": [
  {
   "cell_type": "code",
   "execution_count": 1,
   "metadata": {
    "collapsed": true
   },
   "outputs": [],
   "source": [
    "# Defining functions"
   ]
  },
  {
   "cell_type": "code",
   "execution_count": 3,
   "metadata": {},
   "outputs": [
    {
     "name": "stdout",
     "output_type": "stream",
     "text": [
      "Hi buddies\n"
     ]
    }
   ],
   "source": [
    "def test():\n",
    "    print('Hi buddies')\n",
    "    \n",
    "test()"
   ]
  },
  {
   "cell_type": "code",
   "execution_count": 5,
   "metadata": {},
   "outputs": [
    {
     "data": {
      "text/plain": [
       "50.24"
      ]
     },
     "execution_count": 5,
     "metadata": {},
     "output_type": "execute_result"
    }
   ],
   "source": [
    "def area(r):\n",
    "    a=3.14*r*r\n",
    "    return(a)\n",
    "\n",
    "\n",
    "area(4)\n"
   ]
  },
  {
   "cell_type": "code",
   "execution_count": 6,
   "metadata": {
    "collapsed": true
   },
   "outputs": [],
   "source": [
    "# the syntax to define a function:\n",
    "# • the def keyword;\n",
    "# • is followed by the function’s name, then\n",
    "# • the arguments of the function are given between parentheses followed by a colon.\n",
    "# • the function body;\n",
    "# • and return object for optionally returning values."
   ]
  },
  {
   "cell_type": "code",
   "execution_count": 8,
   "metadata": {},
   "outputs": [
    {
     "data": {
      "text/plain": [
       "50.24"
      ]
     },
     "execution_count": 8,
     "metadata": {},
     "output_type": "execute_result"
    }
   ],
   "source": [
    "def area(r=4):\n",
    "    a=3.14*r*r\n",
    "    return(a)\n",
    "\n",
    "\n",
    "area()\n"
   ]
  },
  {
   "cell_type": "code",
   "execution_count": 14,
   "metadata": {},
   "outputs": [
    {
     "data": {
      "text/plain": [
       "['1', 'a', '2', 'b', '3', 'c', '4', 'd', '5', 'e', '6', 'c']"
      ]
     },
     "execution_count": 14,
     "metadata": {},
     "output_type": "execute_result"
    }
   ],
   "source": [
    "list_no='1 a 2 b 3 c  4 d  5 e 6 c'\n",
    "list_no.split()"
   ]
  },
  {
   "cell_type": "code",
   "execution_count": 16,
   "metadata": {},
   "outputs": [],
   "source": [
    "# Passing by value"
   ]
  },
  {
   "cell_type": "code",
   "execution_count": 17,
   "metadata": {},
   "outputs": [
    {
     "name": "stdout",
     "output_type": "stream",
     "text": [
      "23\n",
      "[99, 42]\n",
      "[99]\n"
     ]
    }
   ],
   "source": [
    "def try_to_modify(x, y, z):\n",
    "    x = 23\n",
    "    y.append(42)\n",
    "    z = [99] # new reference\n",
    "    print(x)\n",
    "    print(y)\n",
    "    print(z)\n",
    "    \n",
    "a = 77 # immutable variable\n",
    "b = [99] # mutable variable\n",
    "c = [28]\n",
    "\n",
    "try_to_modify(a, b, c)    "
   ]
  },
  {
   "cell_type": "code",
   "execution_count": 21,
   "metadata": {
    "collapsed": true
   },
   "outputs": [],
   "source": [
    "# Parameters to functions are references to objects, which are passed by value. When you pass a variable to a\n",
    "# function, python passes the reference to the object to which the variable refers (the value). Not the variable\n",
    "# itself.\n",
    "# If the value passed in a function is immutable, the function does not modify the caller’s variable. If the value\n",
    "# is mutable, the function may modify the caller’s variable in-place:"
   ]
  },
  {
   "cell_type": "code",
   "execution_count": 22,
   "metadata": {},
   "outputs": [
    {
     "name": "stdout",
     "output_type": "stream",
     "text": [
      "77\n",
      "[99, 42]\n",
      "[28]\n"
     ]
    }
   ],
   "source": [
    "print(a)\n",
    "print(b)\n",
    "print(c)"
   ]
  },
  {
   "cell_type": "code",
   "execution_count": 23,
   "metadata": {
    "collapsed": true
   },
   "outputs": [],
   "source": [
    "# Functions have a local variable table called a local namespace.\n",
    "# The variable x only exists within the function try_to_modify."
   ]
  },
  {
   "cell_type": "code",
   "execution_count": 24,
   "metadata": {
    "collapsed": true
   },
   "outputs": [],
   "source": [
    "# Global variables"
   ]
  },
  {
   "cell_type": "code",
   "execution_count": 25,
   "metadata": {},
   "outputs": [
    {
     "data": {
      "text/plain": [
       "15"
      ]
     },
     "execution_count": 25,
     "metadata": {},
     "output_type": "execute_result"
    }
   ],
   "source": [
    "# Variables declared outside the function can be referenced within the function\n",
    "x=5\n",
    "def add(y):\n",
    "    return(x+y)\n",
    "\n",
    "add(10)"
   ]
  },
  {
   "cell_type": "code",
   "execution_count": 26,
   "metadata": {},
   "outputs": [
    {
     "name": "stdout",
     "output_type": "stream",
     "text": [
      "x is 10 \n"
     ]
    }
   ],
   "source": [
    "def setx(y):\n",
    "    x = y\n",
    "    print('x is %d ' % x)\n",
    "    \n",
    "    \n",
    "setx(10)"
   ]
  },
  {
   "cell_type": "code",
   "execution_count": 27,
   "metadata": {},
   "outputs": [
    {
     "data": {
      "text/plain": [
       "5"
      ]
     },
     "execution_count": 27,
     "metadata": {},
     "output_type": "execute_result"
    }
   ],
   "source": [
    "x"
   ]
  },
  {
   "cell_type": "code",
   "execution_count": 31,
   "metadata": {
    "collapsed": true
   },
   "outputs": [],
   "source": [
    "# But these “global” variables cannot bemodified within the function, unless declared global \n",
    "#in the function."
   ]
  },
  {
   "cell_type": "code",
   "execution_count": 29,
   "metadata": {},
   "outputs": [
    {
     "name": "stdout",
     "output_type": "stream",
     "text": [
      "x is 10 \n"
     ]
    }
   ],
   "source": [
    "def setx(y):\n",
    "    global x\n",
    "    x = y\n",
    "    print('x is %d ' % x)\n",
    "    \n",
    "    \n",
    "setx(10)"
   ]
  },
  {
   "cell_type": "code",
   "execution_count": 30,
   "metadata": {},
   "outputs": [
    {
     "data": {
      "text/plain": [
       "10"
      ]
     },
     "execution_count": 30,
     "metadata": {},
     "output_type": "execute_result"
    }
   ],
   "source": [
    "x"
   ]
  },
  {
   "cell_type": "code",
   "execution_count": 34,
   "metadata": {},
   "outputs": [
    {
     "name": "stdout",
     "output_type": "stream",
     "text": [
      "args is ('one', 'two')\n",
      "kwargs is {'x': 1, 'y': 2, 'z': 3}\n"
     ]
    }
   ],
   "source": [
    "def variable_args(*args, **kwargs):\n",
    "    print('args is', args)\n",
    "    print('kwargs is', kwargs)\n",
    "    \n",
    "variable_args('one', 'two', x=1, y=2, z=3)\n"
   ]
  },
  {
   "cell_type": "code",
   "execution_count": 35,
   "metadata": {
    "collapsed": true
   },
   "outputs": [],
   "source": [
    "# Functions are first-class objects, which means they can be:\n",
    "# • assigned to a variable\n",
    "# • an item in a list (or any collection)\n",
    "# • passed as an argument to another function"
   ]
  },
  {
   "cell_type": "code",
   "execution_count": 36,
   "metadata": {},
   "outputs": [
    {
     "name": "stderr",
     "output_type": "stream",
     "text": [
      "ERROR:root:File `'day1.py'` not found.\n"
     ]
    }
   ],
   "source": [
    "%run day1.py"
   ]
  },
  {
   "cell_type": "code",
   "execution_count": 37,
   "metadata": {
    "collapsed": true
   },
   "outputs": [],
   "source": [
    "import os"
   ]
  },
  {
   "cell_type": "code",
   "execution_count": 38,
   "metadata": {},
   "outputs": [
    {
     "data": {
      "text/plain": [
       "['.ipynb_checkpoints',\n",
       " '.ipynb_checkpoints.zip',\n",
       " '1702.07825.pdf',\n",
       " '20170123_r_style_guide.pdf',\n",
       " 'adidas GRAS EXTERN EMEA.pcf',\n",
       " 'Aileen Nielsen-akp',\n",
       " 'Anaconda3-4.2.0-Windows-x86_64',\n",
       " 'Anaconda3-4.2.0-Windows-x86_64.zip',\n",
       " 'Ashis Kumar Panda.docx',\n",
       " 'AT&T Connect.lnk',\n",
       " 'cache',\n",
       " 'day1.ipynb',\n",
       " 'day_2.ipynb',\n",
       " 'desktop.ini',\n",
       " 'EXASolution_User_Manual-5.0.0-en %281%29.pdf',\n",
       " 'gfd',\n",
       " 'HTBARP_Magazine_ISSUE_1.pdf',\n",
       " 'IM.r',\n",
       " 'imbalanced-learn-0.2.1.tar.gz',\n",
       " 'iris-data.csv',\n",
       " 'Jupyter Notebook.lnk',\n",
       " 'kaam.txt',\n",
       " 'linalg_notes.pdf',\n",
       " 'muller',\n",
       " 'New folder',\n",
       " 'New folder (2)',\n",
       " 'New folder (3)',\n",
       " 'New Text Document (2).txt',\n",
       " 'New Text Document (3).txt',\n",
       " 'New Text Document.txt',\n",
       " 'numpy.pdf',\n",
       " 'OT.r',\n",
       " 'python.exe',\n",
       " 'Python_3.6.0_Win_O',\n",
       " 'Python_Bokeh_Cheat_Sheet.pdf',\n",
       " 'Refactoring.zip',\n",
       " 'scipy-2016-sklearn-master',\n",
       " 'ScipyLectures-simple - Copy.pdf',\n",
       " 'ScipyLectures-simple.pdf',\n",
       " 'seb1.zip',\n",
       " 'SmART AssySt.lnk',\n",
       " 'sparklyr-cheatsheet.pdf',\n",
       " 'TimeSeriesAnalysisWithPython-master',\n",
       " 'titanic3.csv',\n",
       " 'tsaEZ.pdf',\n",
       " 'Untitled.ipynb',\n",
       " 'Untitled1.ipynb',\n",
       " 'Untitled2.ipynb',\n",
       " 'wer.r']"
      ]
     },
     "execution_count": 38,
     "metadata": {},
     "output_type": "execute_result"
    }
   ],
   "source": [
    "os.listdir('.')"
   ]
  },
  {
   "cell_type": "code",
   "execution_count": 39,
   "metadata": {
    "collapsed": true
   },
   "outputs": [],
   "source": [
    "# modules"
   ]
  },
  {
   "cell_type": "code",
   "execution_count": 43,
   "metadata": {},
   "outputs": [],
   "source": [
    "def print_b():\n",
    "    \"Prints b.\"\n",
    "    print('b')\n",
    "def print_a():\n",
    "    \"Prints a.\"\n",
    "    print('a')\n",
    "    \n",
    "c=2\n",
    "d=2"
   ]
  },
  {
   "cell_type": "code",
   "execution_count": 45,
   "metadata": {},
   "outputs": [
    {
     "ename": "ModuleNotFoundError",
     "evalue": "No module named 'day1'",
     "output_type": "error",
     "traceback": [
      "\u001b[0;31m---------------------------------------------------------------------------\u001b[0m",
      "\u001b[0;31mModuleNotFoundError\u001b[0m                       Traceback (most recent call last)",
      "\u001b[0;32m<ipython-input-45-b845fdecfb16>\u001b[0m in \u001b[0;36m<module>\u001b[0;34m()\u001b[0m\n\u001b[0;32m----> 1\u001b[0;31m \u001b[1;32mimport\u001b[0m \u001b[0mday1\u001b[0m\u001b[1;33m\u001b[0m\u001b[0m\n\u001b[0m",
      "\u001b[0;31mModuleNotFoundError\u001b[0m: No module named 'day1'"
     ]
    }
   ],
   "source": [
    "import day1"
   ]
  },
  {
   "cell_type": "code",
   "execution_count": 52,
   "metadata": {},
   "outputs": [
    {
     "data": {
      "text/plain": [
       "_io.TextIOWrapper"
      ]
     },
     "execution_count": 52,
     "metadata": {},
     "output_type": "execute_result"
    }
   ],
   "source": [
    "f=open('C:\\\\Users\\\\ashis.panda\\\\Desktop\\\\a.txt','w')\n",
    "type(f)"
   ]
  },
  {
   "cell_type": "code",
   "execution_count": 53,
   "metadata": {},
   "outputs": [
    {
     "data": {
      "text/plain": [
       "32"
      ]
     },
     "execution_count": 53,
     "metadata": {},
     "output_type": "execute_result"
    }
   ],
   "source": [
    "f.write('Hello world \\n and frnd \\n and ppl')"
   ]
  },
  {
   "cell_type": "code",
   "execution_count": 54,
   "metadata": {
    "collapsed": true
   },
   "outputs": [],
   "source": [
    "f.close()"
   ]
  },
  {
   "cell_type": "code",
   "execution_count": 55,
   "metadata": {},
   "outputs": [
    {
     "name": "stdout",
     "output_type": "stream",
     "text": [
      "Hello world \n",
      " and frnd \n",
      " and ppl\n"
     ]
    }
   ],
   "source": [
    "f=open('C:\\\\Users\\\\ashis.panda\\\\Desktop\\\\a.txt','r')\n",
    "s=f.read()\n",
    "print(s)"
   ]
  },
  {
   "cell_type": "code",
   "execution_count": 57,
   "metadata": {},
   "outputs": [
    {
     "name": "stdout",
     "output_type": "stream",
     "text": [
      "Hello world \n",
      "\n",
      " and frnd \n",
      "\n",
      " and ppl\n"
     ]
    }
   ],
   "source": [
    "f=open('C:\\\\Users\\\\ashis.panda\\\\Desktop\\\\a.txt','r')\n",
    "for line in f:\n",
    "    print(line)"
   ]
  },
  {
   "cell_type": "code",
   "execution_count": 58,
   "metadata": {
    "collapsed": true
   },
   "outputs": [],
   "source": [
    "f.close()"
   ]
  },
  {
   "cell_type": "code",
   "execution_count": 59,
   "metadata": {
    "collapsed": true
   },
   "outputs": [],
   "source": [
    "# File modes\n",
    "# • Read-only: r\n",
    "# • Write-only: w\n",
    "# – Note: Create a new file or overwrite existing file.\n",
    "# • Append a file: a\n",
    "# • Read andWrite: r+\n",
    "# • Binarymode: b\n",
    "# – Note: Use for binary files, especially onWindows."
   ]
  },
  {
   "cell_type": "code",
   "execution_count": null,
   "metadata": {
    "collapsed": true
   },
   "outputs": [],
   "source": []
  }
 ],
 "metadata": {
  "kernelspec": {
   "display_name": "Python 3",
   "language": "python",
   "name": "python3"
  },
  "language_info": {
   "codemirror_mode": {
    "name": "ipython",
    "version": 3
   },
   "file_extension": ".py",
   "mimetype": "text/x-python",
   "name": "python",
   "nbconvert_exporter": "python",
   "pygments_lexer": "ipython3",
   "version": "3.6.1"
  }
 },
 "nbformat": 4,
 "nbformat_minor": 2
}
